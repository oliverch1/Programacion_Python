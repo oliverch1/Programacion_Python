{
 "cells": [
  {
   "cell_type": "markdown",
   "metadata": {},
   "source": [
    "# Hoja de Ejercicios 2"
   ]
  },
  {
   "cell_type": "markdown",
   "metadata": {},
   "source": [
    "### **Ejercicio 1**\n",
    "Escriba un programa que tenga dos lazos for anidados (un for dentro de otro for) y que muestre los valores enteros del 1 a 100, alineados tal como se muestra:\n",
    "\n",
    "     1    2    3    4    5    6    7    8    9   10\n",
    "    11   12   13   14   15   16   17   18   19   20\n",
    "    21   22   23   24   25   26   27   28   29   30\n",
    "    .\n",
    "    .\n",
    "    91   92   93   94   95   96   97   98   99  100\n",
    "    \n",
    "Recuerde el uso del f-string para mostrar alineadas las columnas"
   ]
  },
  {
   "cell_type": "code",
   "execution_count": null,
   "metadata": {
    "collapsed": true,
    "jupyter": {
     "outputs_hidden": true
    }
   },
   "outputs": [],
   "source": [
    "#escriba su solución:\n",
    "\n",
    "\n"
   ]
  },
  {
   "cell_type": "markdown",
   "metadata": {
    "collapsed": true,
    "jupyter": {
     "outputs_hidden": true
    }
   },
   "source": [
    "### **Ejercicio 2**\n",
    "Escriba un programa que pida el nombre de una persona y luego su edad. El programa deberá validar que la edad debe ser mayor a 0 y además un número entero, de lo contrario se deberá volver a pedir.\n",
    "Luego del ingreso, el programa deberá mostrar la etapa de la vida de la persona, según los siguientes casos:\n",
    "\n",
    "                   edad en el intervalo [1,3] años  es bebe\n",
    "                   edad en el intervalo [4,11] años es niño\n",
    "                   edad en el intervalo [12,17] años es adolescente\n",
    "                   edad en el intervalo [18,30] años es adulto joven\n",
    "                   edad en el intervalo [31,60] años es adulto\n",
    "                   edad en el intervalo 61 a mas años es adulto mayor\n",
    "\n",
    "Presente sus resultados de acuerdo al formato mostrado en el siguiente ejemplo:\n",
    "\n",
    "                   Ingresa el nombre de la persona: Juan\n",
    "                   Ingresa su edad: 56.7\n",
    "                   La edad debe ser un número entero\n",
    "                   Ingresa su edad: upc\n",
    "                   La edad debe ser un número entero\n",
    "                   Ingresa su edad: 45\n",
    "\n",
    "                   Juan es adulto\n",
    "                   \n",
    "Recordar el manejo de excepciones con *try-except* para validar que la edad sea un número entero."
   ]
  },
  {
   "cell_type": "code",
   "execution_count": null,
   "metadata": {
    "collapsed": true,
    "jupyter": {
     "outputs_hidden": true
    }
   },
   "outputs": [],
   "source": [
    "#escriba su solución:\n",
    "\n"
   ]
  },
  {
   "cell_type": "markdown",
   "metadata": {},
   "source": [
    "### **Ejercicio 3**\n",
    "Escriba un programa que calcule el pago mensual de una hipoteca a un monto dado (pedido al usuario en soles), bajo un plazo de tiempo (pedido al usuario en años) y a una tasa de interes del 3% a 18%. La fórmula base para determinar el pago es *A/D*, donde *A* es el monto de la hipoteca, y *D* es el factor de descuento. El factor de descuento se calcula como:\n",
    "\n",
    "$$D = \\frac{((1+r)^{n}-1)}{r(1+r)^{n}}$$\n",
    "\n",
    "donde *n* es el numero de pagos total (12 veces el número de años del prestamo) y *r* es la tasa de interes expresado en forma decimal (por ejemplo, 0.05 en lugar de 5%), dividido por 12. \n",
    "\n",
    "Luego de pedir los datos, se deberá mostrar una tabla de pago mensual.\n",
    "\n",
    "Presente sus resultados de acuerdo al formato mostrado en el siguiente ejemplo:\n",
    "\n",
    "    Monto de la hipoteca (soles): 350000\n",
    "    Plazo de tiempo (años): 30\n",
    "\n",
    "    Taza de Interes(%)        Pago Mensual (soles)\n",
    "         3                         1475.61       \n",
    "         4                         1670.95       \n",
    "         5                         1878.88       \n",
    "         6                         2098.43       \n",
    "         7                         2328.56       \n",
    "         8                         2568.18       \n",
    "         9                         2816.18       \n",
    "         10                        3071.50       \n",
    "         11                        3333.13       \n",
    "         12                        3600.14       \n",
    "         13                        3871.70       \n",
    "         14                        4147.05       \n",
    "         15                        4425.55       \n",
    "         16                        4706.65       \n",
    "         17                        4989.86       \n",
    "         18                        5274.80  \n",
    "\n",
    "Recuerde el uso del f-string para mostrar su tabla ordenada"
   ]
  },
  {
   "cell_type": "code",
   "execution_count": 3,
   "metadata": {},
   "outputs": [],
   "source": [
    "#escriba su solución:\n",
    "\n",
    "\n"
   ]
  },
  {
   "cell_type": "markdown",
   "metadata": {},
   "source": [
    "### Ejercicio 4\n",
    "El estado de salud de un paciente se puede estimar considerando un indicador llamado IMC o *Indice de Masa Corporal*. El IMC se calcula de la forma:\n",
    "\n",
    "$$IMC = \\frac{peso}{altura^2}$$\n",
    "\n",
    "donde peso estará en Kg y altura en metros. Para interpretar el resultado se utiliza la siguiente información:\n",
    "\n",
    "* Si IMC < 18.5, Bajo Peso\n",
    "* Si IMC < 25.0, Peso Normal\n",
    "* Si IMC < 30.0, Sobrepeso\n",
    "* Si IMC >= 30, Obesidad\n",
    "\n",
    "Con estos datos, escriba un programa que imprima los resultados de 50 pacientes ficticios, cuyos datos serán generados aleatoriamente por el programa, con un rango de peso de 45Kg a 110Kg (valores enteros) y rangos de altura de 1.50m a 1.80m. \n",
    "\n",
    "Presente sus resultados de acuerdo al formato mostrado en el siguiente ejemplo::\n",
    "\n",
    "    1 | Peso: 64 kg  Altura: 1.60m  IMC: 23.23  Estado: Peso Normal\n",
    "    2 | Peso: 82 kg  Altura: 1.72m  IMC: 27.72  Estado: Sobrepeso\n",
    "    3 | Peso: 103kg  Altura: 1.68m  IMC: 36.49  Estado: Obesidad\n",
    "    .\n",
    "    .\n",
    "    .\n",
    "    50| Peso: 49 kg  Altura: 1.70  IMC: 16.96  Estado: Bajo Peso\n",
    "    \n",
    "Recuerde el uso del f-string para mostrar sus datos en orden"
   ]
  },
  {
   "cell_type": "code",
   "execution_count": null,
   "metadata": {
    "collapsed": true,
    "jupyter": {
     "outputs_hidden": true
    }
   },
   "outputs": [],
   "source": [
    "#escriba su solución:\n",
    "\n",
    "\n"
   ]
  },
  {
   "cell_type": "markdown",
   "metadata": {},
   "source": [
    "### **Ejercicio 5**\n",
    "\n",
    "Escriba un programa que permita mostrar números aleatorios de 2 dígitos hasta que se muestre un número con sus dígitos iguales. Cada número deberá ir mostrándose con intervalos de 0.5 segundos de tiempo. Luego de ello el programa deberá mostrar lo siguiente:\n",
    "\n",
    "         - La cantidad de números pares generados.\n",
    "         - La suma de todos los números generados.\n",
    "         \n",
    "Presente sus resultados de acuerdo al formato mostrado en el siguiente ejemplo:\n",
    "\n",
    "            80\n",
    "            17\n",
    "            95\n",
    "            94\n",
    "            47\n",
    "            52\n",
    "            94\n",
    "            19\n",
    "            32\n",
    "            82\n",
    "            94\n",
    "            21\n",
    "            12\n",
    "            11\n",
    "            Cantidad de pares generados: 8\n",
    "            Suma de todos los números generados: 750"
   ]
  },
  {
   "cell_type": "code",
   "execution_count": 13,
   "metadata": {},
   "outputs": [],
   "source": [
    "#escriba su solución:\n",
    "\n"
   ]
  }
 ],
 "metadata": {
  "kernelspec": {
   "display_name": "Python 3 (ipykernel)",
   "language": "python",
   "name": "python3"
  },
  "language_info": {
   "codemirror_mode": {
    "name": "ipython",
    "version": 3
   },
   "file_extension": ".py",
   "mimetype": "text/x-python",
   "name": "python",
   "nbconvert_exporter": "python",
   "pygments_lexer": "ipython3",
   "version": "3.11.7"
  }
 },
 "nbformat": 4,
 "nbformat_minor": 4
}
