{
 "cells": [
  {
   "cell_type": "code",
   "execution_count": 12,
   "id": "f55d4c41",
   "metadata": {},
   "outputs": [
    {
     "name": "stdout",
     "output_type": "stream",
     "text": [
      "Ingrese su edad: 56\n",
      "Es mayor de edad\n"
     ]
    }
   ],
   "source": [
    "#ejercicio:\n",
    "#Desarrolle un progama que pida la edad de una pesona y determine\n",
    "#con un mensaje si dicha persona es mayor de edad o no\n",
    "\n",
    "edad = int(input(\"Ingrese su edad: \"))\n",
    "\n",
    "if edad>=0:\n",
    "    if edad>=18:\n",
    "        print(\"Es mayor de edad\")\n",
    "    else:\n",
    "        print(\"Es menor de edad\")\n",
    "else:\n",
    "    print(\"la edad debe ser mayor o igual 0\")"
   ]
  },
  {
   "cell_type": "code",
   "execution_count": 16,
   "id": "326ad9d5",
   "metadata": {},
   "outputs": [
    {
     "name": "stdout",
     "output_type": "stream",
     "text": [
      "Ingrese nota: 12.45\n",
      "Nota correcta desaprobada\n"
     ]
    }
   ],
   "source": [
    "#ejercicio:\n",
    "#desarrolle un programa que pida la nota de un alumno (valor real).\n",
    "#y luego de ello determine los siguientes posibles mensajes:\n",
    "#a) Nota correcta aprobada\n",
    "#b) Nota correcta desaprobada\n",
    "#c) Nota incorrecta\n",
    "\n",
    "nota = float(input(\"Ingrese nota: \"))\n",
    "\n",
    "if nota>=0 and nota<=20:\n",
    "    if nota>=12.5:\n",
    "        print(\"Nota correcta aprobada\")\n",
    "    else:\n",
    "        print(\"Nota correcta desaprobada\")\n",
    "else:\n",
    "    print(\"Nota incorrecta\")"
   ]
  },
  {
   "cell_type": "code",
   "execution_count": 17,
   "id": "970bae4b",
   "metadata": {},
   "outputs": [
    {
     "name": "stdout",
     "output_type": "stream",
     "text": [
      "Ingrese nota: 7\n",
      "Nota correcta desprobada\n"
     ]
    }
   ],
   "source": [
    "#versión 2:\n",
    "nota = float(input(\"Ingrese nota: \"))\n",
    "\n",
    "if nota<0:\n",
    "    print(\"Nota incorrecta\")\n",
    "elif nota<12.5:\n",
    "    print(\"Nota correcta desaprobada\")\n",
    "elif nota<=20:\n",
    "    print(\"Nota correcta aprobada\")\n",
    "else:\n",
    "    print(\"Nota incorrecta\")"
   ]
  },
  {
   "cell_type": "code",
   "execution_count": 25,
   "id": "44594313",
   "metadata": {},
   "outputs": [
    {
     "name": "stdout",
     "output_type": "stream",
     "text": [
      "Ingrese un año: 2000\n",
      "El año 2000 es bisiesto\n"
     ]
    }
   ],
   "source": [
    "#ejercicio:\n",
    "#desarrolle un programa que pida un año (valor entero) y luego de ello\n",
    "#determine si el año es bisiesto o no\n",
    "#OBS: Un año es bisiesto si su valor es múltiplo de 4 pero no de 100, a\n",
    "#     excepción de que sea múltiplo de 400\n",
    "\n",
    "año = int(input(\"Ingrese un año: \"))\n",
    "\n",
    "if año>0:\n",
    "    e=(año%4==0 and año%100!=0) or año%400==0\n",
    "    if e:\n",
    "        print(f\"El año {año} es bisiesto\")\n",
    "    else:\n",
    "        print(f\"El año {año} no es bisiesto\")\n",
    "else:\n",
    "    print(\"Año incorrecto\")"
   ]
  },
  {
   "cell_type": "code",
   "execution_count": 31,
   "id": "a2878766",
   "metadata": {},
   "outputs": [
    {
     "name": "stdout",
     "output_type": "stream",
     "text": [
      "False\n",
      "<class 'bool'>\n",
      "True\n",
      "<class 'bool'>\n",
      "False\n",
      "True\n",
      "False\n"
     ]
    }
   ],
   "source": [
    "#tips:\n",
    "\n",
    "e1 = 45>10 and 56==56.002  #expresión lógica\n",
    "print(e1)\n",
    "print(type(e1))\n",
    "\n",
    "e2 = 4.5!=5 or 400>=12   #expresion lógica\n",
    "print(e2)\n",
    "print(type(e2))\n",
    "\n",
    "#expresión: 100 es menor a 34 y 45 es impar\n",
    "e3 = 100<34 and 45%2!=0\n",
    "print(e3)\n",
    "\n",
    "e4 = isinstance(20,int) #20 es entero\n",
    "print(e4)\n",
    "\n",
    "e5 = isinstance(\"UPC\",float) #\"UPC\" es flotante\n",
    "print(e5)"
   ]
  },
  {
   "cell_type": "code",
   "execution_count": 43,
   "id": "271df290",
   "metadata": {},
   "outputs": [
    {
     "name": "stdout",
     "output_type": "stream",
     "text": [
      "20\n",
      "10.0\n",
      "5.0\n",
      "2.5\n",
      "1.25\n",
      "\n",
      " 5\n"
     ]
    }
   ],
   "source": [
    "#uso del while\n",
    "x=20\n",
    "contador=0\n",
    "while x>1:\n",
    "    contador=contador+1  #contador+=1\n",
    "    print(x)\n",
    "    x=x/2\n",
    "    \n",
    "print(\"\\n\",contador)"
   ]
  },
  {
   "cell_type": "code",
   "execution_count": 44,
   "id": "c24926f0",
   "metadata": {},
   "outputs": [
    {
     "name": "stdout",
     "output_type": "stream",
     "text": [
      "Ingrese un número mayor a 0-6\n",
      "El número debe ser > a 0, vuelve a ingresar\n",
      "Ingrese un número mayor a 0-4\n",
      "El número debe ser > a 0, vuelve a ingresar\n",
      "Ingrese un número mayor a 0-8\n",
      "El número debe ser > a 0, vuelve a ingresar\n",
      "Ingrese un número mayor a 0-7\n",
      "El número debe ser > a 0, vuelve a ingresar\n",
      "Ingrese un número mayor a 0-8\n",
      "El número debe ser > a 0, vuelve a ingresar\n",
      "Ingrese un número mayor a 012\n",
      "Dato correcto\n"
     ]
    }
   ],
   "source": [
    "#validar el ingreso de un dato:\n",
    "while True:\n",
    "    numero=int(input(\"Ingrese un número mayor a 0: \"))\n",
    "    if numero>0:\n",
    "        print(\"Dato correcto\")\n",
    "        break\n",
    "    else:\n",
    "        print(\"El número debe ser > a 0, vuelve a ingresar\")"
   ]
  },
  {
   "cell_type": "code",
   "execution_count": 51,
   "id": "cc17e9c9",
   "metadata": {},
   "outputs": [
    {
     "name": "stdout",
     "output_type": "stream",
     "text": [
      "range(0, 10)\n",
      "range(3, 19)\n",
      "range(5, 22, 3)\n",
      "range(10, 90, 20)\n",
      "range(10, 0, -2)\n"
     ]
    }
   ],
   "source": [
    "#la funcíón BIF range:\n",
    "\n",
    "r1 = range(10)  #representa a un rango de valores enteros consecutivos\n",
    "print(r1)       #0,1,2,3,4,5,6,7,8,9\n",
    "\n",
    "r2 = range(3,19) #3,4,5,6,7,8,9,10,.....,18\n",
    "print(r2)\n",
    "\n",
    "r3 = range(5,22,3)  #5,8,11,14,17,20\n",
    "print(r3)\n",
    "\n",
    "r4 = range(10,90,20) #10,30,50,70\n",
    "print(r4)\n",
    "\n",
    "r5 = range(10,0,-2)  #10,8,6,4,2\n",
    "print(r5)"
   ]
  },
  {
   "cell_type": "code",
   "execution_count": 53,
   "id": "8769a5f4",
   "metadata": {},
   "outputs": [
    {
     "name": "stdout",
     "output_type": "stream",
     "text": [
      "True\n",
      "False\n"
     ]
    }
   ],
   "source": [
    "#la palabra reservada in: Permite determinar si un dato esta o no\n",
    "#dentro de un grupo de valores\n",
    "\n",
    "print(5 in range(2,10)) #5 está en el rango: 2,3,4,5,6,7,8,9\n",
    "print(10 in range(3,10,2)) #10 está en el rango: 3,5,7,9"
   ]
  },
  {
   "cell_type": "code",
   "execution_count": 56,
   "id": "64de2970",
   "metadata": {},
   "outputs": [
    {
     "name": "stdout",
     "output_type": "stream",
     "text": [
      "1 2 3 4 5 6 7 8 9 10 11 12 13 14 15 "
     ]
    }
   ],
   "source": [
    "#uso de for:\n",
    "for x in range(1,16): #para x:1,2,3,4,.....,15\n",
    "    print(x,end=' ')"
   ]
  },
  {
   "cell_type": "code",
   "execution_count": 60,
   "id": "ed729266",
   "metadata": {},
   "outputs": [
    {
     "name": "stdout",
     "output_type": "stream",
     "text": [
      "---3\n",
      "---------9\n",
      "---------------15\n"
     ]
    }
   ],
   "source": [
    "for i in range(3,20,6): #para i:3,9,15\n",
    "    print(i*\"-\",i,sep='')"
   ]
  },
  {
   "cell_type": "code",
   "execution_count": 62,
   "id": "408e8ca4",
   "metadata": {},
   "outputs": [
    {
     "name": "stdout",
     "output_type": "stream",
     "text": [
      "Ingrese número 1: 4.5\n",
      "Ingrese número 2: 4.5\n",
      "Ingrese número 3: 7.8\n",
      "Ingrese número 4: 8.8\n",
      "Ingrese número 5: 5.6\n",
      "Ingrese número 6: 2.\n",
      "Ingrese número 7: 7.8\n",
      "Ingrese número 8: 8.9\n",
      "Ingrese número 9: 5.6\n",
      "Ingrese número 10: 5.6\n"
     ]
    }
   ],
   "source": [
    "#ejercicio:\n",
    "#desarrolle un programa que permita pedir (de uno en uno) 10 números reales\n",
    "\n",
    "for i in range(1,11): #para i:1,2,3,4,5,6,7,8,9,10\n",
    "    numero=float(input(f\"Ingrese número {i}: \"))"
   ]
  },
  {
   "cell_type": "code",
   "execution_count": 64,
   "id": "6187d6ef",
   "metadata": {},
   "outputs": [
    {
     "name": "stdout",
     "output_type": "stream",
     "text": [
      "1 2 3 4 5 6 7 8 9 10 \n",
      " ====================\n",
      "1 2 3 4 5 6 7 8 9 10 \n",
      " ====================\n",
      "1 2 3 4 5 6 7 8 9 10 \n",
      " ====================\n",
      "1 2 3 4 5 6 7 8 9 10 \n",
      " ====================\n",
      "1 2 3 4 5 6 7 8 9 10 \n",
      " ====================\n",
      "1 2 3 4 5 6 7 8 9 10 \n",
      " ====================\n",
      "1 2 3 4 5 6 7 8 9 10 \n",
      " ====================\n",
      "1 2 3 4 5 6 7 8 9 10 \n",
      " ====================\n",
      "1 2 3 4 5 6 7 8 9 10 \n",
      " ====================\n",
      "1 2 3 4 5 6 7 8 9 10 \n",
      " ====================\n"
     ]
    }
   ],
   "source": [
    "for k in range(1,11): #para k:1,2,3,4,5,6,7,8,9,10\n",
    "    for h in range(1,11): #para h:1,2,3,4,5,6,7,8,9,10\n",
    "        print(h,end=' ')\n",
    "    print(\"\\n\",20*\"=\")"
   ]
  },
  {
   "cell_type": "code",
   "execution_count": 83,
   "id": "8a9e4cf0",
   "metadata": {},
   "outputs": [
    {
     "name": "stdout",
     "output_type": "stream",
     "text": [
      "Ingrese numerador: 6\n",
      "Ingrese denominador: 7\n",
      "0.8571428571428571\n"
     ]
    }
   ],
   "source": [
    "while True:\n",
    "    try:\n",
    "        numerador = int(input(\"Ingrese numerador: \"))\n",
    "        denominador = int(input(\"Ingrese denominador: \"))\n",
    "        d = numerador/denominador\n",
    "        print(d)\n",
    "        break\n",
    "    except ValueError:\n",
    "        print(\"Se debe ingresar un valor entero\")\n",
    "    except ZeroDivisionError:\n",
    "        print(\"No se puede dividir entre 0\")\n",
    "    #except SyntaxError:\n",
    "    #    print(\"Error de sintaxis\")"
   ]
  },
  {
   "cell_type": "code",
   "execution_count": 73,
   "id": "45652f5a",
   "metadata": {},
   "outputs": [
    {
     "name": "stdout",
     "output_type": "stream",
     "text": [
      "Ingrese numerador: yryryr\n"
     ]
    },
    {
     "ename": "ValueError",
     "evalue": "invalid literal for int() with base 10: 'yryryr'",
     "output_type": "error",
     "traceback": [
      "\u001b[1;31m---------------------------------------------------------------------------\u001b[0m",
      "\u001b[1;31mValueError\u001b[0m                                Traceback (most recent call last)",
      "Cell \u001b[1;32mIn[73], line 1\u001b[0m\n\u001b[1;32m----> 1\u001b[0m numerador \u001b[38;5;241m=\u001b[39m \u001b[38;5;28mint\u001b[39m(\u001b[38;5;28minput\u001b[39m(\u001b[38;5;124m\"\u001b[39m\u001b[38;5;124mIngrese numerador: \u001b[39m\u001b[38;5;124m\"\u001b[39m))\n",
      "\u001b[1;31mValueError\u001b[0m: invalid literal for int() with base 10: 'yryryr'"
     ]
    }
   ],
   "source": [
    "numerador = int(input(\"Ingrese numerador: \"))"
   ]
  },
  {
   "cell_type": "code",
   "execution_count": 75,
   "id": "6f3f7ed1",
   "metadata": {},
   "outputs": [
    {
     "ename": "ZeroDivisionError",
     "evalue": "division by zero",
     "output_type": "error",
     "traceback": [
      "\u001b[1;31m---------------------------------------------------------------------------\u001b[0m",
      "\u001b[1;31mZeroDivisionError\u001b[0m                         Traceback (most recent call last)",
      "Cell \u001b[1;32mIn[75], line 1\u001b[0m\n\u001b[1;32m----> 1\u001b[0m \u001b[38;5;241m5\u001b[39m\u001b[38;5;241m/\u001b[39m\u001b[38;5;241m0\u001b[39m\n",
      "\u001b[1;31mZeroDivisionError\u001b[0m: division by zero"
     ]
    }
   ],
   "source": [
    "5/0"
   ]
  },
  {
   "cell_type": "code",
   "execution_count": 81,
   "id": "5d7931ef",
   "metadata": {},
   "outputs": [
    {
     "ename": "SyntaxError",
     "evalue": "incomplete input (1042533490.py, line 1)",
     "output_type": "error",
     "traceback": [
      "\u001b[1;36m  Cell \u001b[1;32mIn[81], line 1\u001b[1;36m\u001b[0m\n\u001b[1;33m    print(\"Hola\"\u001b[0m\n\u001b[1;37m                ^\u001b[0m\n\u001b[1;31mSyntaxError\u001b[0m\u001b[1;31m:\u001b[0m incomplete input\n"
     ]
    }
   ],
   "source": [
    "print(\"Hola\""
   ]
  },
  {
   "cell_type": "code",
   "execution_count": 94,
   "id": "1e298b02",
   "metadata": {},
   "outputs": [
    {
     "name": "stdout",
     "output_type": "stream",
     "text": [
      "4\n",
      "26.67439533071809\n"
     ]
    }
   ],
   "source": [
    "#para usar funciones que generen números aleatorios se tiene que importar\n",
    "#el módulo (librería) random\n",
    "\n",
    "import random\n",
    "\n",
    "#generar un número aleatorio entero en el rango [1,6]\n",
    "d = random.randint(1,6)\n",
    "print(d)\n",
    "\n",
    "#genera un número aleatorio real (flotante) en el rango [20,30>\n",
    "r = random.uniform(20,30)\n",
    "print(r)"
   ]
  },
  {
   "cell_type": "code",
   "execution_count": 96,
   "id": "4d73de12",
   "metadata": {},
   "outputs": [],
   "source": [
    "#dir(random)"
   ]
  },
  {
   "cell_type": "code",
   "execution_count": 97,
   "id": "fae9a5a9",
   "metadata": {},
   "outputs": [
    {
     "name": "stdout",
     "output_type": "stream",
     "text": [
      "aleatorio 1: 111\n",
      "aleatorio 2: 454\n",
      "aleatorio 3: 498\n",
      "aleatorio 4: 185\n",
      "aleatorio 5: 984\n",
      "aleatorio 6: 278\n",
      "aleatorio 7: 183\n",
      "aleatorio 8: 509\n",
      "aleatorio 9: 332\n",
      "aleatorio 10: 154\n",
      "aleatorio 11: 185\n",
      "aleatorio 12: 542\n",
      "aleatorio 13: 463\n",
      "aleatorio 14: 477\n",
      "aleatorio 15: 924\n",
      "aleatorio 16: 226\n",
      "aleatorio 17: 346\n",
      "aleatorio 18: 442\n",
      "aleatorio 19: 809\n",
      "aleatorio 20: 362\n",
      "aleatorio 21: 335\n",
      "aleatorio 22: 332\n",
      "aleatorio 23: 725\n",
      "aleatorio 24: 321\n",
      "aleatorio 25: 950\n",
      "aleatorio 26: 542\n",
      "aleatorio 27: 143\n",
      "aleatorio 28: 936\n",
      "aleatorio 29: 893\n",
      "aleatorio 30: 172\n",
      "aleatorio 31: 540\n",
      "aleatorio 32: 154\n",
      "aleatorio 33: 988\n",
      "aleatorio 34: 301\n",
      "aleatorio 35: 666\n",
      "aleatorio 36: 886\n",
      "aleatorio 37: 717\n",
      "aleatorio 38: 586\n",
      "aleatorio 39: 960\n",
      "aleatorio 40: 535\n",
      "aleatorio 41: 747\n",
      "aleatorio 42: 131\n",
      "aleatorio 43: 933\n",
      "aleatorio 44: 390\n",
      "aleatorio 45: 522\n",
      "aleatorio 46: 318\n",
      "aleatorio 47: 498\n",
      "aleatorio 48: 715\n",
      "aleatorio 49: 359\n",
      "aleatorio 50: 367\n"
     ]
    }
   ],
   "source": [
    "#ejercicio:\n",
    "#desarrolle un programa que permita mostrar en pantalla 50\n",
    "#números aleatorios enteros de 3 digitos cada uno.\n",
    "\n",
    "import random\n",
    "for i in range(1,51):\n",
    "    alea=random.randint(100,999)\n",
    "    print(f\"aleatorio {i}: {alea}\")"
   ]
  },
  {
   "cell_type": "code",
   "execution_count": null,
   "id": "0ec310a8",
   "metadata": {},
   "outputs": [],
   "source": []
  }
 ],
 "metadata": {
  "kernelspec": {
   "display_name": "Python 3 (ipykernel)",
   "language": "python",
   "name": "python3"
  },
  "language_info": {
   "codemirror_mode": {
    "name": "ipython",
    "version": 3
   },
   "file_extension": ".py",
   "mimetype": "text/x-python",
   "name": "python",
   "nbconvert_exporter": "python",
   "pygments_lexer": "ipython3",
   "version": "3.11.5"
  }
 },
 "nbformat": 4,
 "nbformat_minor": 5
}
