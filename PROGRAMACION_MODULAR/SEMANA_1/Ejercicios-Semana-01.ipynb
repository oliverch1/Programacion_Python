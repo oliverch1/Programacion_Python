{
 "cells": [
  {
   "cell_type": "markdown",
   "metadata": {},
   "source": [
    "# Hoja de Ejercicios 1\n",
    "\n",
    "**Importante**: Recuerda que puedes usar el foro de consultas para cualquier duda que tengas durante tus actividades asíncronas"
   ]
  },
  {
   "cell_type": "markdown",
   "metadata": {},
   "source": [
    "**Ejercicio 1**"
   ]
  },
  {
   "cell_type": "markdown",
   "metadata": {},
   "source": [
    "En los 2 códigos mostrados líneas abajo, complete la asignación a las variables *nombre* e *identidad* y el(los) argumentos de la función de *print* de tal manera que al ejecutarse, se muestre el resultado:\n",
    "\n",
    "       Eulalio, la ID = 4590487 ingresada no es válida. Error = -1\n",
    "\n",
    "***forma 1***: No use la técnica del *f-string*, además, el(los) argumentos de la función *print* deben usar a las variables *nombre* e *identidad*\n",
    "\n",
    "***forma 2***: Use la técnica del *f-string*, además, el(los) argumentos de la función *print* deben usar a las variables *nombre* e *identidad*"
   ]
  },
  {
   "cell_type": "code",
   "execution_count": null,
   "metadata": {},
   "outputs": [],
   "source": [
    "#forma 1:\n",
    "\n",
    "nombre = \n",
    "identidad = \n",
    "print()"
   ]
  },
  {
   "cell_type": "code",
   "execution_count": null,
   "metadata": {},
   "outputs": [],
   "source": [
    "#forma 2:\n",
    "\n",
    "nombre = \n",
    "identidad = \n",
    "print()"
   ]
  },
  {
   "cell_type": "markdown",
   "metadata": {},
   "source": [
    "**Ejercicio 2**\n",
    "\n",
    "En el código mostrado líneas abajo, complete el argumento en cada función *print* de tal manera que al ejecutarse, se muestre el resultado:\n",
    "\n",
    "      12 + 5.67 = 17.67\n",
    "      12 - 5.67 = 6.33\n",
    "      12 x 5.67 = 68.04\n",
    "      12 / 5.67 = 2.116402\n",
    "\n",
    "***Nota***: Use la técnica del *f-string*, además, el(los) argumentos en cada función *print* deben usar a las variables *p* y *q*"
   ]
  },
  {
   "cell_type": "code",
   "execution_count": null,
   "metadata": {},
   "outputs": [],
   "source": [
    "p = 12\n",
    "q = 5.67\n",
    "print()\n",
    "print()\n",
    "print()\n",
    "print()"
   ]
  },
  {
   "cell_type": "markdown",
   "metadata": {},
   "source": [
    "**Ejercicio 3**\n",
    "\n",
    "Escriba un programa que pida al usuario 5 números enteros y luego de ello muestre su suma.\n",
    "\n",
    "El resultado de su programa deberá respetar el formato del siguiente ejemplo de ejecución:\n",
    "\n",
    "    Ingrese primer número: 2000\n",
    "    Ingrese segundo número: 500\n",
    "    Ingrese tercer número: 17000\n",
    "    Ingrese cuarto número: 24\n",
    "    Ingrese quinto número: 7\n",
    "    \n",
    "    Resultado:\n",
    "    \n",
    "          2000 +\n",
    "           500\n",
    "         17000\n",
    "            24\n",
    "             7\n",
    "    ----------\n",
    "         19531\n",
    "         \n",
    "***Nota***: Use la técnica del f-string"
   ]
  },
  {
   "cell_type": "code",
   "execution_count": null,
   "metadata": {},
   "outputs": [],
   "source": [
    "# Escriba su programa aqui\n",
    "\n",
    "\n",
    "\n"
   ]
  },
  {
   "cell_type": "markdown",
   "metadata": {},
   "source": [
    "**Ejercicio 4**\n",
    "\n",
    "Se ha calculado que todos los años millones de usuarios suben 80PB (Petabytes, 10^15) de videos a YouTube. Las tasas de velocidad de Internet actualmente se miden en millones de bits por segundo (por ejemplo, 10Mbps). Recuerde que 1 Byte esta formado por 8 bits.\n",
    "\n",
    "Escriba un programa que pida la velocidad de conexion que posee y muestre la cantidad de tiempo que demoraría en descargar todos los videos de YouTube subidos en un año. ¿Que unidad de tiempo será la mas adecuada? ¿Minutos? ¿Horas? ¿Dias? ¿Otros?"
   ]
  },
  {
   "cell_type": "code",
   "execution_count": null,
   "metadata": {},
   "outputs": [],
   "source": [
    "# Escriba su programa aqui\n",
    "\n",
    "\n",
    "\n"
   ]
  },
  {
   "cell_type": "markdown",
   "metadata": {},
   "source": [
    "**Ejercicio 5**\n",
    "\n",
    "Escriba un programa que pida sus datos personales (nombre y código) asi como las notas de sus 3 prácticas calificadas del curso que está llevando y luego de ello, calcule el promedio de las notas (pc1 + pc2 + pc3)/3\n",
    "\n",
    "El resultado de su programa deberá respetar el formato del siguiente ejemplo de ejecución:\n",
    "\n",
    "    Ingrese su nombre: Armando Puertas\n",
    "    Ingrese su codigo: 201611132\n",
    " \n",
    "    Ingrese sus notas:\n",
    "       Práctica 1: 12\n",
    "       Práctica 2: 10\n",
    "       Práctica 3: 13    \n",
    "               \n",
    "                      Reporte                   \n",
    "    =============================================\n",
    "    Alumno:                       Armando Puertas\n",
    "    Código:                             201611132\n",
    "    Promedio de prácticas:                   11.7\n",
    "    \n",
    "***Nota***: Use la técnica del f-string"
   ]
  },
  {
   "cell_type": "code",
   "execution_count": 19,
   "metadata": {},
   "outputs": [],
   "source": [
    "# Escriba su programa aqui\n",
    "\n",
    "\n",
    "\n"
   ]
  }
 ],
 "metadata": {
  "kernelspec": {
   "display_name": "Python 3 (ipykernel)",
   "language": "python",
   "name": "python3"
  },
  "language_info": {
   "codemirror_mode": {
    "name": "ipython",
    "version": 3
   },
   "file_extension": ".py",
   "mimetype": "text/x-python",
   "name": "python",
   "nbconvert_exporter": "python",
   "pygments_lexer": "ipython3",
   "version": "3.9.13"
  }
 },
 "nbformat": 4,
 "nbformat_minor": 2
}
