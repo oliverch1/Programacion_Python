{
 "cells": [
  {
   "cell_type": "code",
   "execution_count": null,
   "id": "bee2e371",
   "metadata": {},
   "outputs": [],
   "source": [
    "#print es una función BIF, de salida que permita imprimir los argumento\n",
    "#enviados en su entrada\n",
    "\n",
    "print(\"\\nHOLA\\nMUNDO!\")\n",
    "print('HOLA MUNDO')\n",
    "print(\"Bienvenidos a Python\\n\")\n",
    "print(\"Programación de computadoras\")\n",
    "\n",
    "#por defecto al final de la impresión se coloca un salto de línea"
   ]
  },
  {
   "cell_type": "code",
   "execution_count": 13,
   "id": "64532224",
   "metadata": {},
   "outputs": [
    {
     "name": "stdout",
     "output_type": "stream",
     "text": [
      "HOLA 200 12.6 LIMA\n",
      "\n",
      "Hola juan tienes 20 Años\n"
     ]
    }
   ],
   "source": [
    "#la función print puede recibir varios argumentos de entrada\n",
    "\n",
    "print(\"HOLA\",200,12.6,\"LIMA\")\n",
    "print() #por defecto imprime un salto de línea\n",
    "print(\"Hola juan tienes\",20,\"Años\")"
   ]
  },
  {
   "cell_type": "code",
   "execution_count": 15,
   "id": "1d0e2ea9",
   "metadata": {},
   "outputs": [],
   "source": [
    "#dir(__builtins__) #permite listar todas las funciones BIF de python"
   ]
  },
  {
   "cell_type": "code",
   "execution_count": 19,
   "id": "0cc7dc4c",
   "metadata": {},
   "outputs": [
    {
     "name": "stdout",
     "output_type": "stream",
     "text": [
      "<class 'str'>\n",
      "<class 'int'>\n",
      "<class 'float'>\n",
      "<class 'int'>\n",
      "200 45 1.66\n"
     ]
    }
   ],
   "source": [
    "#python es un lenguaje de tipado dinámico\n",
    "nombre=\"juan\"\n",
    "print(type(nombre))\n",
    "edad=45\n",
    "print(type(edad))\n",
    "talla=1.66\n",
    "print(type(talla))\n",
    "nombre=200\n",
    "print(type(nombre))\n",
    "print(nombre,edad,talla)"
   ]
  },
  {
   "cell_type": "code",
   "execution_count": 7,
   "id": "23c6b72e",
   "metadata": {},
   "outputs": [
    {
     "name": "stdout",
     "output_type": "stream",
     "text": [
      "Ingrese su nombre: juan\n",
      "Ingrese su peso (kg.): 66\n",
      "Ingrese su talla (mt.): 1.77\n",
      "Hola juan Tu IMC es:  21.067\n"
     ]
    }
   ],
   "source": [
    "#input es una función BIF de entrada que permite leer un dato desde\n",
    "#el teclado:\n",
    "\n",
    "#pedir el nombre de una persona:\n",
    "nombre = input(\"Ingrese su nombre: \")\n",
    "#print(\"Hola\",nombre)\n",
    "#pedir el peso\n",
    "peso = float(input(\"Ingrese su peso (kg.): \"))\n",
    "#pedir la talla\n",
    "talla = float(input(\"Ingrese su talla (mt.): \"))\n",
    "\n",
    "#calculando el índice de masa corporal:\n",
    "imc = peso/(talla**2)\n",
    "\n",
    "print(\"Hola\",nombre,\"Tu IMC es: \",round(imc,3))"
   ]
  },
  {
   "cell_type": "code",
   "execution_count": 29,
   "id": "d51b8d8e",
   "metadata": {},
   "outputs": [
    {
     "name": "stdout",
     "output_type": "stream",
     "text": [
      "<class 'int'>\n",
      "<class 'float'>\n"
     ]
    }
   ],
   "source": [
    "#conversión de datos:\n",
    "numero = \"200\"\n",
    "numero = int(numero)\n",
    "print(type(numero))\n",
    "\n",
    "var = \"1.66\"\n",
    "var = float(var)\n",
    "print(type(var))"
   ]
  },
  {
   "cell_type": "code",
   "execution_count": 31,
   "id": "bdbb0e38",
   "metadata": {},
   "outputs": [
    {
     "name": "stdout",
     "output_type": "stream",
     "text": [
      "<class 'str'>\n"
     ]
    }
   ],
   "source": [
    "#en python no existe el tipo double\n",
    "#en python no existe el tipo char\n",
    "car = '@'\n",
    "print(type(car))"
   ]
  },
  {
   "cell_type": "code",
   "execution_count": 3,
   "id": "f141e278",
   "metadata": {},
   "outputs": [
    {
     "name": "stdout",
     "output_type": "stream",
     "text": [
      "2.0\n",
      "3\n",
      "2\n"
     ]
    }
   ],
   "source": [
    "#división:\n",
    "x = 12/6 #el resultado de toda división siempre es flotante\n",
    "print(x)\n",
    "\n",
    "#división entera:\n",
    "y = 20//6\n",
    "print(y)\n",
    "\n",
    "#residuo:\n",
    "r = 20%6\n",
    "print(r)"
   ]
  },
  {
   "cell_type": "code",
   "execution_count": 5,
   "id": "09a8a623",
   "metadata": {},
   "outputs": [],
   "source": [
    "#help() #permite entrar al sistema de ayuda de python\n",
    "       #q:para salir del sistema de ayuda"
   ]
  },
  {
   "cell_type": "code",
   "execution_count": 12,
   "id": "bde60229",
   "metadata": {},
   "outputs": [
    {
     "name": "stdout",
     "output_type": "stream",
     "text": [
      "Programación               PC              3.568      Perú .......123\n"
     ]
    }
   ],
   "source": [
    "#uso de la técnica del f-string:\n",
    "\n",
    "print(f\"Programación {'PC':^30}{3.5684:<10.3f} Perú {123:.>10}\")"
   ]
  },
  {
   "cell_type": "code",
   "execution_count": 13,
   "id": "fa72c0d0",
   "metadata": {},
   "outputs": [
    {
     "name": "stdout",
     "output_type": "stream",
     "text": [
      "Ingrese su nombre: juan\n",
      "Ingrese su peso (kg.): 44\n",
      "Ingrese su talla (mt.): 1.66\n",
      "Hola juan, Tu IMC es: 15.967\n"
     ]
    }
   ],
   "source": [
    "#input es una función BIF de entrada que permite leer un dato desde\n",
    "#el teclado:\n",
    "\n",
    "#pedir el nombre de una persona:\n",
    "nombre = input(\"Ingrese su nombre: \")\n",
    "#print(\"Hola\",nombre)\n",
    "#pedir el peso\n",
    "peso = float(input(\"Ingrese su peso (kg.): \"))\n",
    "#pedir la talla\n",
    "talla = float(input(\"Ingrese su talla (mt.): \"))\n",
    "\n",
    "#calculando el índice de masa corporal:\n",
    "imc = peso/(talla**2)\n",
    "\n",
    "#print(\"Hola\",nombre,\"Tu IMC es: \",round(imc,3))\n",
    "#usando la tecnica del f-string\n",
    "print(f\"Hola {nombre}, Tu IMC es: {imc:.3f}\")"
   ]
  },
  {
   "cell_type": "code",
   "execution_count": 17,
   "id": "c94499dd",
   "metadata": {},
   "outputs": [
    {
     "name": "stdout",
     "output_type": "stream",
     "text": [
      "                          REPORTE                           \n",
      "============================================================\n",
      "Nombre:...................................Carlos Perez Rosas\n",
      "Sueldo:..............................................5678.59\n"
     ]
    }
   ],
   "source": [
    "nombre = \"Carlos Perez Rosas\"\n",
    "sueldo = 5678.586435\n",
    "print(f\"{'REPORTE':^60}\")\n",
    "print(60*\"=\")\n",
    "print(f\"Nombre:{nombre:.>53}\")\n",
    "print(f\"Sueldo:{sueldo:.>53.2f}\")"
   ]
  },
  {
   "cell_type": "code",
   "execution_count": null,
   "id": "666cf154",
   "metadata": {},
   "outputs": [],
   "source": []
  }
 ],
 "metadata": {
  "kernelspec": {
   "display_name": "Python 3 (ipykernel)",
   "language": "python",
   "name": "python3"
  },
  "language_info": {
   "codemirror_mode": {
    "name": "ipython",
    "version": 3
   },
   "file_extension": ".py",
   "mimetype": "text/x-python",
   "name": "python",
   "nbconvert_exporter": "python",
   "pygments_lexer": "ipython3",
   "version": "3.11.5"
  }
 },
 "nbformat": 4,
 "nbformat_minor": 5
}
