{
 "cells": [
  {
   "cell_type": "markdown",
   "id": "828f1f5f-24bb-43a6-a8b3-49426cb75aa7",
   "metadata": {},
   "source": [
    "# Trabajo Parcial"
   ]
  },
  {
   "cell_type": "markdown",
   "id": "7fe17e05-3d31-411c-ae6e-ac3534dbcdf2",
   "metadata": {},
   "source": [
    "## Presentación del problema\n",
    "Usted ha sido seleccionado por sus conocimientos en programación para resolver un problema en su lugar de trabajo. Todos los dias, el personal de contabilidad genera a primera hora un archivo con todos los pagos que deben de realizarse a los diferentes proveedores de la empresa. Este es un archivo de texto (CSV)  que tiene el siguiente formato:"
   ]
  },
  {
   "cell_type": "raw",
   "id": "37ea4df2-5823-48fd-8c06-1e2d61605da1",
   "metadata": {},
   "source": [
    "    ID_PROVEEDOR,NOMBRE,MONTO\n",
    "    1928,INDUSTRIAS UNIDAD S.A.C,\"1,232.00\"\n",
    "    1820,ALARMAS SEGURITAS S.A.,890.90\n",
    "    0282,PAPELERIAS ZEPITA E.I.R.L.,\"2,230.50\"\n",
    "    .\n",
    "    .\n",
    "    ."
   ]
  },
  {
   "cell_type": "code",
   "execution_count": 1,
   "id": "1ccc28c9-6071-404a-ae7e-c3447c38a1bb",
   "metadata": {},
   "outputs": [],
   "source": [
    "# OJO:\n",
    "# No modifique nada del archivo CSV (en formato texto) proporcionado. Hay números que estan entre \"\", por ejemplo:\n",
    "# \"1,232.00\", \"2,230.50\"  (No quite las \" \", eso es parte del archivo).\n",
    "\n",
    "# Tenga en cuenta que el archivo deberá ser leído usando el módulo CSV de Python (no de la manera tradicional)"
   ]
  },
  {
   "cell_type": "markdown",
   "id": "90b3c783-5759-4b5a-a584-d76c97e5344f",
   "metadata": {},
   "source": [
    "Se debe de programar los pagos a cada uno de los proveedores y emitir un cheque para su entrega. Los cheques deben de tener impresa la siguiente información:\n",
    "\n",
    "    - Nombre del proveedor\n",
    "    - Monto a pagar\n",
    "    - Código alfanumérico especial por cheque (para su identificación).\n",
    "\n",
    "Esta impresión requiere que el monto a pagar se exprese de forma literal, lo que requiere que la información numérica del monto se transforme en un texto. De esta forma, para el primer proveedor se tendrá la siguiente impresión:"
   ]
  },
  {
   "cell_type": "raw",
   "id": "acbd6e26-b642-4566-a740-78a0d698cbd6",
   "metadata": {},
   "source": [
    "    --------------------------------------------------------------------------------\n",
    "    \n",
    "    Fecha: 30/09/2024\n",
    "    Cliente: INDUSTRIAS UNIDAD S.A.C\n",
    "    Código de Pago: YABX3SV7\n",
    "    Paguese al portador el monto de:\n",
    "    \n",
    "    \tMIL DOSCIENTOS TREINTA Y DOS NUEVOS SOLES CON CERO CENTIMOS\n",
    "    \n",
    "    --------------------------------------------------------------------------------"
   ]
  },
  {
   "cell_type": "markdown",
   "id": "872cfe1f-1277-431a-a901-a209a9103ed7",
   "metadata": {},
   "source": [
    "Esto debe de imprimirse sobre un cheque, por lo que se debe de generar un archivo de texto con esta información para su posterior impresión. El objetivo consiste en generar los archivos de texto para cada cheque."
   ]
  },
  {
   "cell_type": "markdown",
   "id": "de4c67f9-b2fd-4ed5-9374-e9e2afe714ac",
   "metadata": {},
   "source": [
    "## Desarrollo del problema\n",
    "Para resolver este problema cuenta con el archivo CSV (en formato texto) `data_pagos.txt` que contiene la información de pago a proveedores. NO MODIFIQUE ESTE ARCHIVO. Reviselo con atención y tome en consideración que se debe de generar un cheque (archivo de texto) por cada proveedor, lo que significa que si un proveedor aparece programado más de una vez, los montos programados a pagar deben de sumarse para obtener un solo cheque para este proveedor. Recuerde: se debe de generar un cheque por proveedor y no por pago.\n",
    "\n",
    "Toda la información de pagos se deberá almacenar en un diccionario de cheques, donde sus llaves serán los identificadores de cada proveedor (ID_PROVEEDOR) y los valores serán listas de tamaño 3 (1er. elemento: nombre del proveedor, 2do. elemento: monto a pagar, 3er. elemento: código alfanumérico) . Así, el diccionario tendría la siguiente estructura:"
   ]
  },
  {
   "cell_type": "raw",
   "id": "3d72e625-c076-4581-9ecb-b382d5f008d8",
   "metadata": {},
   "source": [
    "    # El codigo generado es de ejemplo...\n",
    "    {'1928': ['INDUSTRIAS UNIDAD S.A.C','1,232.00','QGXWU3EN'], \n",
    "     '1820': ['ALARMAS SEGURITAS S.A.', '890.90', '7SEJOMH6'],\n",
    "     '0282': ['PAPELERIAS ZEPITA E.I.R.L.', '2,230.50', 'SEJTI1DF']\n",
    "\n",
    "    ... }"
   ]
  },
  {
   "cell_type": "markdown",
   "id": "2d81f32a-5a61-418f-b0a4-61284ff50815",
   "metadata": {},
   "source": [
    "Si tiene *N* cheques por generar, deberá de tener un diccionario de *N* elementos. Una vez que tenga esta estructura, deberá generar un archivo de texto para cada cheque con el nombre `cheque_<id_proveedor>.txt` (ejemplo para el 1er. proveedor: `cheque_1928.txt`). Es decir, deberá tener *N* archivos de texto. Cada uno de estos deberá tener una impresión según el formato mostrado celdas arriba."
   ]
  },
  {
   "cell_type": "markdown",
   "id": "986dc3a8-cc7d-4d40-9d02-a6c88899cbb9",
   "metadata": {},
   "source": [
    "Para esto deberá resolver las siguientes funciones para que pueda integrarlas en el script principal:"
   ]
  },
  {
   "cell_type": "code",
   "execution_count": 1,
   "id": "46994aff-de77-4415-bb05-1eceb22dd556",
   "metadata": {},
   "outputs": [],
   "source": [
    "import random,string\n",
    "\n",
    "def genera_secuencia(N): #2 PTOS\n",
    "    #Retorna un str que contiene una secuencia aleatoria de N caracteres alfanumericos (letras mayúsculas o números) todos diferentes\n",
    "    #Obs.: (No se debe considerar a vocales con acento y la Ñ)\n",
    "    #ejemplo para N 10: '0J4L5BPR3V' \n",
    "    #sugerencia:  Puede usar el método choice del módulo random\n",
    "    #quite la palabra pass y complete su código\n",
    "    caracteres = list(string.ascii_uppercase) + list(string.digits)\n",
    "    secuencia = ''.join(random.sample(caracteres,N))\n",
    "    return secuencia\n",
    " "
   ]
  },
  {
   "cell_type": "code",
   "execution_count": 2,
   "id": "398844a8-80a2-49ab-b2dc-560874bd270d",
   "metadata": {},
   "outputs": [
    {
     "name": "stdout",
     "output_type": "stream",
     "text": [
      "G068BE\n",
      "BM4TYVDR9F\n"
     ]
    }
   ],
   "source": [
    "# EJEMPLOS DE COMPROBACIÓN DE LA FUNCION ANTERIOR. NO MODIFIQUE ESTA CELDA  \n",
    "print(genera_secuencia(6))    #la función retornará un str de 6 caracteres entre letras y números\n",
    "print(genera_secuencia(10))   #la función retornará un str de 10 caracteres entre letras y números"
   ]
  },
  {
   "cell_type": "code",
   "execution_count": 3,
   "id": "451bd2fe-c6a3-4468-a3c2-528e0ca7fdc6",
   "metadata": {},
   "outputs": [],
   "source": [
    "def suma_montos(monto1, monto2):  #2 PTOS\n",
    "    #Retorna la suma (numérica) de dos montos expresados como str y retorna el resultado (con 2 decimales de redondeo), \n",
    "    #tambien expresado como str, se asume que la función recibirá como entrada montos expresandos con 2 decimales.\n",
    "    #Obs.: Tanto los str de entrada y el de salida deben tener la coma (,) en su representación numérica para los miles\n",
    "    #ejemplo: \"1,130.00\" + \"800.30\" --> \"1,930.30\"\n",
    "\n",
    "    #quite la palabra pass y complete su código\n",
    "    monto1 = float(monto1.replace(',',''))\n",
    "    monto2 = float(monto2.replace(',',''))\n",
    "    suma = round(monto1 + monto2,2)\n",
    "    return f'{suma:,.2f}'"
   ]
  },
  {
   "cell_type": "code",
   "execution_count": 4,
   "id": "fa752c1d-02fa-4e9f-ba2c-c654aae12918",
   "metadata": {},
   "outputs": [
    {
     "name": "stdout",
     "output_type": "stream",
     "text": [
      "200.00\n",
      "1,341.40\n"
     ]
    }
   ],
   "source": [
    "# EJEMPLOS DE COMPROBACIÓN DE LA FUNCION ANTERIOR. NO MODIFIQUE ESTA CELDA\n",
    "print(suma_montos('100.00', '100.00'))        #la función retornará el str:  '200.00'\n",
    "print(suma_montos('1,220.50', '120.90'))      #la función retornará el str: '1,341.40'"
   ]
  },
  {
   "cell_type": "code",
   "execution_count": 5,
   "id": "941b52e9-3e16-4b44-a71c-866afe166091",
   "metadata": {},
   "outputs": [],
   "source": [
    "def unidades(num):  #2 PTOS\n",
    "    #Retorna un str a partir de un número entero en el rango 0-9 (argumento de entrada), se asume que la\n",
    "    #función recibirá como entrada un número en ese rango.\n",
    "    #Guiése de los ejemplos mostrados en la celda de abajo\n",
    "    #quite la palabra pass y complete su código\n",
    "    cadena = {\n",
    "        0:'cero',\n",
    "        1: 'uno',\n",
    "        2: 'dos',\n",
    "        3: 'tres',\n",
    "        4: 'cuatro',\n",
    "        5: 'cinco',\n",
    "        6: 'seis',\n",
    "        7: 'siete',\n",
    "        8: 'ocho',\n",
    "        9: 'nueve'\n",
    "        }\n",
    "    return cadena.get(num)"
   ]
  },
  {
   "cell_type": "code",
   "execution_count": 6,
   "id": "5e57b174-43e1-4fad-b96a-07e462e8f512",
   "metadata": {},
   "outputs": [
    {
     "name": "stdout",
     "output_type": "stream",
     "text": [
      "ocho\n",
      "uno\n",
      "cero\n"
     ]
    }
   ],
   "source": [
    "# EJEMPLOS DE COMPROBACIÓN DE LA FUNCION ANTERIOR. NO MODIFIQUE ESTA CELDA\n",
    "print(unidades(8))    #la función retornará el str: 'ocho'\n",
    "print(unidades(1))    #la función retornará el str: 'uno'\n",
    "print(unidades(0))    #la función retornará el str: 'cero'"
   ]
  },
  {
   "cell_type": "code",
   "execution_count": 7,
   "id": "f140c2ba-8261-4c04-a751-7643c06e729c",
   "metadata": {},
   "outputs": [],
   "source": [
    "def decenas(num):  #2 PTOS\n",
    "    #Retorna un str a partir de un numero entero en el rango 10-99 (argumento de entrada), se asume que la\n",
    "    #función recibirá como entrada un número en ese rango\n",
    "    # Obs.:  Para números del 16 al 29 el str debe salir sin la palabra 'y', es decir:\n",
    "                     #16 --> 'dieciseis', 17 --> 'diecisiete', ...... . . ,  29 --> 'veintinueve'\n",
    "             #Para números del 30 al 99 el str debe salir con la palabra 'y', según corresponda, es decir:\n",
    "                    #31 --> 'treinta y uno', 32 --> 'treinta y dos', ...... . . ,  99 --> 'noventa y nueve'\n",
    "    #Guiése de los ejemplos mostrados en la celda de abajo\n",
    "    cadena = ''\n",
    "    numero = [int(i) for i in str(num)]\n",
    "    uni,dece = numero[1],numero[0]\n",
    "    buscador = dece*10\n",
    "\n",
    "    decena_base = {10:'diez',20:'veinte',30:'treinta',40:'cuarenta',50:'cincuenta',\n",
    "                   60:'sesenta',70:'setenta',80:'ochenta',90:'noventa'}\n",
    "    decena_rango_1 = {11:'once',12:'doce',13:'trece',14:'catorce',15:'quince'}\n",
    "    if (dece*uni) != 0:\n",
    "        if num>10 and num<16:\n",
    "            cadena=decena_rango_1.get(num)\n",
    "        elif num>15 and num<20:\n",
    "            cadena='dieci'+unidades(uni)\n",
    "        elif num>20 and num<30:\n",
    "            cadena='veinti'+unidades(uni)\n",
    "        elif num>30:\n",
    "            cadena=decena_base.get(buscador)+' y '+unidades(uni)\n",
    "        else:\n",
    "            None\n",
    "    else:\n",
    "        cadena=decena_base.get(num)\n",
    "    return cadena"
   ]
  },
  {
   "cell_type": "code",
   "execution_count": 8,
   "id": "7bd4c600-6407-4654-b593-8f7b09019da8",
   "metadata": {},
   "outputs": [
    {
     "name": "stdout",
     "output_type": "stream",
     "text": [
      "diez\n",
      "doce\n",
      "diecinueve\n",
      "treinta\n",
      "cincuenta y dos\n",
      "sesenta\n",
      "ochenta y siete\n"
     ]
    }
   ],
   "source": [
    "# EJEMPLOS DE COMPROBACIÓN DE LA FUNCION ANTERIOR. NO MODIFIQUE ESTA CELDA\n",
    "print(decenas(10))    #la función retornará el str:  'diez'\n",
    "print(decenas(12))    #la función retornará el str:  'doce'\n",
    "print(decenas(19))    #la función retornará el str:  'diecinueve'\n",
    "print(decenas(30))    #la función retornará el str:  'treinta'\n",
    "print(decenas(52))    #la función retornará el str:  'cincuenta y dos'\n",
    "print(decenas(60))    #la función retornará el str:  'sesenta'\n",
    "print(decenas(87))    #la función retornará el str:  'ochenta y siete'"
   ]
  },
  {
   "cell_type": "code",
   "execution_count": 9,
   "id": "7421e7bb-a9ef-4524-aa78-7301b4670265",
   "metadata": {},
   "outputs": [],
   "source": [
    "def centenas(num): #2 PTOS\n",
    "    #Retorna un str a partir de un numero entero en el rango 100-999 (argumento de entrada), se asume que la\n",
    "    #función recibirá como entrada un número en ese rango\n",
    "    #Obs.: Tome en cuenta la palabra ciento, doscientos, trescientos, ... novecientos, junto con la(s) palabras correspondientes.\n",
    "           #Guiése de los ejemplos mostrados en la celda de abajo\n",
    "\n",
    "    \n",
    "    #quite la palabra pass y complete su código\n",
    "    cadena = ''\n",
    "    numeros = [int(i) for i in str(num)]\n",
    "    centena,decena,unidad=numeros[0],numeros[1],numeros[2]\n",
    "    deceuni = int(str(decena)+str(unidad))\n",
    "    buscador=centena*100\n",
    "\n",
    "    centena_base={100:'ciento',200:'doscientos',300:'trescientos',400:'cuatrocientos',500:'quinientos',\n",
    "                  600:'seiscientos',700:'setecientos',800:'ochocientos',900:'novecientos'}\n",
    "    \n",
    "    if (centena*100)==num and (centena*100) != 100:\n",
    "        cadena = centena_base.get(num)\n",
    "    elif num == 100:\n",
    "        cadena = 'cien'\n",
    "    else:\n",
    "        if decena == 0:\n",
    "            cadena = centena_base.get(buscador)+' '+unidades(unidad)\n",
    "        else:\n",
    "            cadena = centena_base.get(buscador)+' '+decenas(deceuni)\n",
    "        \n",
    "    return cadena"
   ]
  },
  {
   "cell_type": "code",
   "execution_count": 10,
   "id": "110a864e-7677-425d-a38f-57f10560c3a4",
   "metadata": {},
   "outputs": [
    {
     "name": "stdout",
     "output_type": "stream",
     "text": [
      "doscientos\n",
      "doscientos cincuenta y ocho\n",
      "cien\n",
      "ciento dos\n",
      "novecientos noventa y nueve\n"
     ]
    }
   ],
   "source": [
    "# EJEMPLOS DE COMPROBACIÓN DE LA FUNCION ANTERIOR. NO MODIFIQUE ESTA CELDA\n",
    "print(centenas(200))   #la función retornará el str: 'doscientos'\n",
    "print(centenas(258))   #la función retornará el str: 'doscientos cincuenta y ocho'\n",
    "print(centenas(100))   #la función retornará el str: 'cien'\n",
    "print(centenas(102))   #la función retornará el str: 'ciento dos'\n",
    "print(centenas(999))   #la función retornará el str: 'novecientos noventa y nueve'"
   ]
  },
  {
   "cell_type": "code",
   "execution_count": 11,
   "id": "96c80ecb-e155-4d8a-8837-57e2471d8dba",
   "metadata": {},
   "outputs": [],
   "source": [
    "def num2str(num): #2 PTOS\n",
    "    #Retorna un str a partir de un numero entero en el rango 1000-999999 (argumento de entrada), se asume que la\n",
    "    #función recibirá como entrada un número en ese rango\n",
    "    #Obs.: Tome en cuenta la palabra mil, dos mil, tres mil, ...., junto con la(s) palabras correspondientes\n",
    "           #Guiése de los ejemplos mostrados en la celda de abajo\n",
    "\n",
    "    \n",
    "    #quite la palabra pass y complete su código\n",
    "    def caso_especial_1(C,D,U,millar,deceuni,cendeceuni):\n",
    "        caso_cadena = ''\n",
    "\n",
    "        casos_millar = {1:'un mil',21:'veinti un mil',31:'treinta y un mil',41:'cuarenta y un mil',51:'cincuenta y un mil',\n",
    "                        61:'sesenta y un mil',71:'setenta y un mil',81:'ochenta y un mil',91:'noventa y un mil'}\n",
    "\n",
    "        if C==0 and D==0 and U==0:\n",
    "            caso_cadena = casos_millar.get(millar)\n",
    "        else:\n",
    "            if cendeceuni < 10:\n",
    "                caso_cadena = casos_millar.get(millar)+' '+unidades(U)\n",
    "            elif 9<cendeceuni<100:\n",
    "                caso_cadena = casos_millar.get(millar)+' '+decenas(deceuni)\n",
    "            else:\n",
    "                caso_cadena = casos_millar.get(millar)+' '+centenas(cendeceuni)\n",
    "        return caso_cadena     \n",
    "\n",
    "    def validacion(dato):\n",
    "        valores = [1,21,31,41,51,61,71,81,91]\n",
    "        return dato in valores\n",
    "    \n",
    "    def conversion_general_1(C,D,U,millar,deceuni,cendeceuni):\n",
    "        general_cadena = ''\n",
    "        if (C+D+U)==0:\n",
    "            general_cadena = decenas(millar)+' mil'\n",
    "        else:\n",
    "            if cendeceuni<10:\n",
    "                general_cadena = decenas(millar)+' mil '+unidades(U)\n",
    "            elif 9<cendeceuni<100:\n",
    "                general_cadena = decenas(millar)+' mil '+decenas(deceuni)\n",
    "            else:\n",
    "                general_cadena = decenas(millar)+' mil '+centenas(cendeceuni)\n",
    "        return general_cadena     \n",
    "\n",
    "    cadena = ''\n",
    "    if num < 10000:\n",
    "        numeros = [int(i) for i in str(num)]\n",
    "        M,C,D,U = numeros[0],numeros[1],numeros[2],numeros[3]\n",
    "        deceuni = int(str(D)+str(U))\n",
    "        cendeceuni = int(str(C)+str(D)+str(U))\n",
    "\n",
    "        M_base = {1:'mil',2:'dos mil',3:'tres mil',4:'cuatro mil',5:'cinco mil',6:'seis mil',7:'siete mil',\n",
    "                  8:'ocho mil',9:'nueve mil'}\n",
    "        \n",
    "        if (M*1000)==num:\n",
    "            cadena = M_base.get(M)\n",
    "        else:\n",
    "            if cendeceuni<10:\n",
    "                cadena = M_base.get(M)+' '+unidades(U)\n",
    "            elif cendeceuni>9 and cendeceuni<100:\n",
    "                cadena = M_base.get(M)+' '+decenas(deceuni)\n",
    "            else:\n",
    "                cadena = M_base.get(M)+' '+centenas(cendeceuni)\n",
    "    elif 10000<=num<100000:\n",
    "        numeros = [int(i) for i in str(num)]\n",
    "        M2,M1,C,D,U = numeros[0],numeros[1],numeros[2],numeros[3],numeros[4]\n",
    "        deceuni = int(str(D)+str(U))\n",
    "        cendeceuni = int(str(C)+str(D)+str(U))\n",
    "        millar = int(str(M2)+str(M1))\n",
    "        if validacion(millar) is True:\n",
    "            cadena = caso_especial_1(C,D,U,millar,deceuni,cendeceuni)\n",
    "        else:\n",
    "            cadena = conversion_general_1(C,D,U,millar,deceuni,cendeceuni)\n",
    "    else:\n",
    "        numeros = [int(i) for i in str(num)]\n",
    "        M3,M2,M1,C,D,U = numeros[0],numeros[1],numeros[2],numeros[3],numeros[4],numeros[5]\n",
    "        deceuni = int(str(D)+str(U))\n",
    "        cendeceuni = int(str(C)+str(D)+str(U))\n",
    "        millar_dece = int(str(M2)+str(M1))\n",
    "        millar_cen = int(str(M3)+str(M2)+str(M1))\n",
    "        if validacion(millar_dece) is True:\n",
    "            if (M3*100)==100:\n",
    "                cadena = 'ciento '+caso_especial_1(C,D,U,millar_dece,deceuni,cendeceuni)\n",
    "            else:\n",
    "                cadena = centenas(M3*100)+' '+caso_especial_1(C,D,U,millar_dece,deceuni,cendeceuni)\n",
    "        else:\n",
    "            if cendeceuni<10:\n",
    "                cadena = centenas(millar_cen)+' mil '+centenas(cendeceuni)\n",
    "            elif 9<cendeceuni<100:\n",
    "                cadena = centenas(millar_cen)+' mil '+centenas(cendeceuni)\n",
    "            else:\n",
    "                cadena = centenas(millar_cen)+' mil '+centenas(cendeceuni)\n",
    "    \n",
    "    return cadena"
   ]
  },
  {
   "cell_type": "code",
   "execution_count": 12,
   "id": "adb88196-501c-46c3-9673-18b085a43c98",
   "metadata": {},
   "outputs": [
    {
     "name": "stdout",
     "output_type": "stream",
     "text": [
      "mil doscientos\n",
      "novecientos noventa y dos mil cuatrocientos sesenta y cuatro\n",
      "dos mil seis\n",
      "quinientos mil cuatrocientos cincuenta y seis\n",
      "novecientos noventa y nueve mil novecientos noventa y nueve\n"
     ]
    }
   ],
   "source": [
    "# EJEMPLOS DE COMPROBACIÓN DE LA FUNCION ANTERIOR. NO MODIFIQUE ESTA CELDA\n",
    "print(num2str(1200))     #la función retornará el str: 'mil doscientos'\n",
    "print(num2str(992464))   #la función retornará el str: 'novecientos noventa y dos mil cuatrocientos sesenta y cuatro' \n",
    "print(num2str(2006))     #la función retornará el str: 'dos mil seis' \n",
    "print(num2str(500456))   #la función retornará el str: 'quinientos mil cuatrocientos cincuenta y seis' \n",
    "print(num2str(999999))   #la función retornará el str: 'novecientos noventa y nueve mil novecientos noventa y nueve'"
   ]
  },
  {
   "cell_type": "code",
   "execution_count": 13,
   "id": "68de6298-d43a-443f-afd7-1cb4839487db",
   "metadata": {},
   "outputs": [],
   "source": [
    "def monto2str(monto):  #2 PTOS\n",
    "    #Retorna un str a partir de un monto expresado en formato bancario (también como str) (ej.'1,283.40'), se asume \n",
    "    #que la función recibirá como entrada un monto representado con 2 decimales\n",
    "    #El str resultante tendrá la siguiente forma: \"<entero> NUEVOS SOLES CON <centimos> CENTIMOS\"\n",
    "    #Obs.: El str retornado deberá estar en mayúsculas.\n",
    "          #Guiése de los ejemplos mostrados en la celda de abajo\n",
    "\n",
    "    \n",
    "    #quite la palabra pass y complete su código\n",
    "    def reemplazando_texto(numero):\n",
    "        if numero.endswith(\" uno\"):\n",
    "            numero = numero[:-4]+\" un\"\n",
    "        return numero\n",
    "\n",
    "    cadena,cadena_entera,cadena_decimal = '','',''\n",
    "\n",
    "    numero = monto.replace(',','')\n",
    "    ente,deci = numero.split('.')\n",
    "    entero,decimal = int(ente),int(deci)\n",
    "    \n",
    "    #leer el numero entero en formato bancario \n",
    "    if entero<10:\n",
    "        if entero == 1:\n",
    "            cadena_entera = 'un nuevo sol '\n",
    "        else:\n",
    "            cadena_entera = unidades(entero)+' NUEVOS SOLES '\n",
    "    elif 9<entero<20:\n",
    "        cadena_entera = decenas(entero)+' NUEVOS SOLES '\n",
    "    else:\n",
    "        if ente.endswith('1') and not ente.endswith('11'):\n",
    "            if entero<100:\n",
    "                cadena_entera = reemplazando_texto(decenas(entero))+' NUEVOS SOLES '\n",
    "            elif 99<entero<1000:\n",
    "                cadena_entera = reemplazando_texto(centenas(entero))+' NUEVOS SOLES '\n",
    "            else:\n",
    "                cadena_entera = reemplazando_texto(num2str(entero))+' NUEVOS SOLES '\n",
    "        else:\n",
    "            if entero<100:\n",
    "                cadena_entera = decenas(entero)+' NUEVOS SOLES '\n",
    "            elif 99<entero<1000:\n",
    "                cadena_entera = centenas(entero)+' NUEVOS SOLES '\n",
    "            else:\n",
    "                cadena_entera = num2str(entero)+' NUEVOS SOLES '\n",
    "\n",
    "    #leer el numero decimal en formato bancario\n",
    "    if decimal<10:\n",
    "        if decimal == 1:\n",
    "            cadena_decimal = ' un centimo'\n",
    "        else:\n",
    "            cadena_decimal = unidades(decimal)+' centimos'\n",
    "    else:\n",
    "        if deci.endswith('1') and not deci.endswith('11'):\n",
    "            cadena_decimal = reemplazando_texto(decenas(decimal))+' centimos'\n",
    "        else:\n",
    "            cadena_decimal = decenas(decimal)+' centimos'\n",
    "    cadena = f\"{cadena_entera} con {cadena_decimal}\"\n",
    "    return cadena.upper()"
   ]
  },
  {
   "cell_type": "code",
   "execution_count": 14,
   "id": "df6030ce-24c6-4cf4-a8f1-92ec1f197ecc",
   "metadata": {},
   "outputs": [
    {
     "name": "stdout",
     "output_type": "stream",
     "text": [
      "MIL DOSCIENTOS NUEVOS SOLES  CON CUARENTA CENTIMOS\n",
      "NOVECIENTOS NOVENTA Y DOS MIL CUATROCIENTOS SESENTA Y CUATRO NUEVOS SOLES  CON CERO CENTIMOS\n",
      "DOS MIL SEIS NUEVOS SOLES  CON SETENTA Y OCHO CENTIMOS\n"
     ]
    }
   ],
   "source": [
    "# EJEMPLOS DE COMPROBACIÓN DE LA FUNCION ANTERIOR. NO MODIFIQUE ESTA CELDA\n",
    "print(monto2str('1,200.40'))      #La función retornará el str: 'MIL DOSCIENTOS NUEVOS SOLES CON CUARENTA CENTIMOS'\n",
    "print(monto2str('992,464.00'))    #La función retornará el str: \n",
    "                                     #'NOVECIENTOS NOVENTA Y DOS MIL CUATROCIENTOS SESENTA Y CUATRO NUEVOS SOLES CON CERO CENTIMOS'\n",
    "print(monto2str('2006.78'))       #La función retornará el str: \n",
    "                                     #'DOS MIL SEIS NUEVOS SOLES CON SETENTA Y OCHO CENTIMOS'"
   ]
  },
  {
   "cell_type": "code",
   "execution_count": 15,
   "id": "04a1ee04-1a77-4094-aa40-15bb3f8c8275",
   "metadata": {},
   "outputs": [],
   "source": [
    "import csv\n",
    "\n",
    "def cheques(filename):  #3 PTOS.\n",
    "    #Recibe como argumento de entrada el nombre de un archivo csv (en formato texto) y en base a la lectura de su información\n",
    "    #retorna un diccionario con la siguiente forma (observe que los valores del diccionario son listas de 3 elementos cada una):\n",
    "    \n",
    "    #\n",
    "    #   {\n",
    "    #    id_proveedor: [ nombre_del_proveedor, monto_total, codigo_alfanumerico ], \n",
    "    #    id_proveedor: [ ..... ],\n",
    "    #    ...\n",
    "    #   }\n",
    "    #\n",
    "\n",
    "    #Cada elemento del diccionario representa al \"cheque\" para cada proveedor\n",
    "    \n",
    "    #La información que irá en el diccionario se obtiene del archivo csv leído (usar el módulo csv para la lectura), tenga\n",
    "    #en cuenta que el archivo a leer es un CSV en formato texto (no use delimeter=\";\")\n",
    "    \n",
    "    #Considere que la informacion debe ser consolidada. Esto quiere decir que si en el archivo se tienen 2 o mas cheques para \n",
    "    #un mismo proveedor, debe de registrarse un solo cheque con el pago total para el proveedor.\n",
    "    \n",
    "    # El codigo alfanumérico es una secuencia de 8 caracteres (letras y números) aleatoria que indica el código de pago\n",
    "\n",
    "    \n",
    "    #quite la palabra pass y complete su código\n",
    "    info_cheques = {}\n",
    "    with open(filename,mode='r',encoding='UTF-8') as cheques:\n",
    "        #usando el reader de csv para tener mas cuidado al momento de separarar los datos\n",
    "        lectura = csv.reader(cheques)\n",
    "        #obviamos la cabecera\n",
    "        cabecera = next(lectura)\n",
    "\n",
    "        #iteramos sobre cada linea restante del archivo\n",
    "        for linea in lectura:\n",
    "            clave = linea[0]\n",
    "            nombre = linea[1]\n",
    "            monto = linea[2]\n",
    "            codigo_pago = genera_secuencia(8)\n",
    "            if clave in info_cheques:\n",
    "                info_cheques[clave][1] = suma_montos(info_cheques[clave][1],monto)\n",
    "            else:\n",
    "                info_cheques[clave] = [nombre,monto,codigo_pago]\n",
    "    return info_cheques"
   ]
  },
  {
   "cell_type": "code",
   "execution_count": 16,
   "id": "0118bf39-b58b-45c4-8fdf-7a54513e7064",
   "metadata": {},
   "outputs": [
    {
     "name": "stdout",
     "output_type": "stream",
     "text": [
      "{'1928': ['INDUSTRIAS UNIDAD S.A.C', '1,232.00', 'ZAGEY4T3'], '1820': ['ALARMAS SEGURITAS S.A.', '890.90', '2C9EBSMT'], '0282': ['PAPELERIAS ZEPITA E.I.R.L.', '2,230.50', 'IUHGYJ6Z'], '3890': ['TECHNIDATA SUPPORT S.A.C', '600.00', '06S4YXEF'], '4844': ['CABLEVISION S.A.', '330.00', '4VQ2HJIW']}\n"
     ]
    }
   ],
   "source": [
    "# EJEMPLO DE COMPROBACIÓN DE LA FUNCION ANTERIOR. NO MODIFIQUE ESTA CELDA\n",
    "\n",
    "print(cheques('data_pagos.txt'))\n",
    "\n",
    "#Se debería mostrar al diccionario retornado (los códigos alfanuméricos son de ejemplo):\n",
    "\n",
    "#{'1928': ['INDUSTRIAS UNIDAD S.A.C', '1,232.00', 'GBKV6S08'],\n",
    "# '1820': ['ALARMAS SEGURITAS S.A.', '890.90', 'PLDU091I'],\n",
    "#   .\n",
    "#   .\n",
    "#   .\n",
    "#}"
   ]
  },
  {
   "cell_type": "code",
   "execution_count": 18,
   "id": "4b48ff3b-df28-49ba-af42-447cc5855a04",
   "metadata": {},
   "outputs": [],
   "source": [
    "import datetime\n",
    "\n",
    "def genera_cheque(id_archivo, list_info):  #3 PTOS.\n",
    "    # Genera un archivo de texto tradicional, con el nombre \"cheque_<id_archivo>.txt\" que\n",
    "    # contenga la informacion de la lista list_info, con el formato:\n",
    "    #\n",
    "    # -------------------------------------------------------------------\n",
    "    #\n",
    "    # Fecha: <Fecha del dia>\n",
    "    # Cliente: <Nombre del Proveedor>\n",
    "    # Codigo de Pago: <Codigo de Pago>\n",
    "    # \n",
    "    # Paguese al portador el monto de:\n",
    "    #\n",
    "    #                         <Monto de Pago> (expresado como texto en mayúsculas)\n",
    "    #\n",
    "    # --------------------------------------------------------------------\n",
    "\n",
    "    #EJEMPLO:\n",
    "    #--------------------------------------------------------------------------------\n",
    "\n",
    "    # Fecha: 26/09/2024\n",
    "    # Cliente: PAPELERIAS ZEPITA E.I.R.L.\n",
    "    # Código de Pago: QUXIP296\n",
    "    # Paguese al portador el monto de:\n",
    "\n",
    "    # \t    DOS MIL DOSCIENTOS TREINTA NUEVOS SOLES CON CINCUENTA CENTIMOS\n",
    "\n",
    "    # --------------------------------------------------------------------------------\n",
    "\n",
    "    \n",
    "    #quite la palabra pass y complete su código\n",
    "    fecha = datetime.datetime.now().strftime(\"%d/%m/%Y\")#fecha y hora actual\n",
    "    monto = monto2str(list_info[1])#convierte el monto a formato bancario\n",
    "    nombre_archivo = f\"cheque_{id_archivo}.txt\"#se crea el archivo txt para su reporte\n",
    "    \n",
    "    with open(nombre_archivo,mode='w',encoding='UTF-8') as cheque:\n",
    "        cheque.write(\"-\"*50+'\\n')\n",
    "        cheque.write(f\"Fecha: {fecha}\\n\")\n",
    "        cheque.write(f\"Cliente: {list_info[0]}\\n\")\n",
    "        cheque.write(f\"Codigo de pago: {list_info[2]}\\n\")\n",
    "        cheque.write(f\"Paguese al portador el monto de:\\n\\n\")\n",
    "        cheque.write(f\" \"*6+monto+'\\n\\n')\n",
    "        cheque.write(f\"-\"*50)\n",
    "    \n",
    "    print(f\"Cheque generado: {nombre_archivo}\")"
   ]
  },
  {
   "cell_type": "markdown",
   "id": "a3dd036d-591c-488b-aff7-f4dc99495bea",
   "metadata": {
    "jp-MarkdownHeadingCollapsed": true
   },
   "source": [
    "### OBSERVACIÓN:\n",
    "Solo complete las funciones que se detallan en las celdas de arriba, no defina y agregue otras funciones que no se piden, sino habrá descuento de puntaje.\n",
    "\n",
    "Para su desarrollo use herramientas vistas desde la semana 01 hasta la semana 07, sino habrá descuento de puntaje.\n",
    "\n",
    "Tenga en cuenta que el programa de una función puede invocar a otra función (siempre y cuando este dentro de las pedidas por el trabajo) , ello va a ser de mucha ayuda en su desarrollo."
   ]
  },
  {
   "cell_type": "markdown",
   "id": "0c783356-8abb-4f6f-91d0-7c390ed4268a",
   "metadata": {},
   "source": [
    "## Script\n",
    "Si todas las funciones anteriores están correctamente implementadas, segun las especificaciones indicadas en la documentación y probadas en las celdas de prueba, el siguiente script debe de resolver el problema. NO MODIFIQUE LA SIGUIENTE CELDA. SOLO ASEGURESE QUE RESUELVA EL PROBLEMA PROPUESTO.\n",
    "\n",
    "Tenga en cuenta que todas las celdas de las funciones arriba implementadas tienen que haberse ejecutado."
   ]
  },
  {
   "cell_type": "code",
   "execution_count": 20,
   "id": "01969e52-c652-46ae-ba57-791554d2c235",
   "metadata": {},
   "outputs": [
    {
     "name": "stdout",
     "output_type": "stream",
     "text": [
      "Cheque generado: cheque_1928.txt\n",
      "Cheque generado: cheque_1820.txt\n",
      "Cheque generado: cheque_0282.txt\n",
      "Cheque generado: cheque_3890.txt\n",
      "Cheque generado: cheque_4844.txt\n"
     ]
    }
   ],
   "source": [
    "#PROGRAMA PRINCIPAL - NO MODIFIQUE ESTA CELDA \n",
    "\n",
    "# Se lee el registro de los pagos a proveedores en un archivo CSV (formato texto)\n",
    "registro = cheques(\"data_pagos.txt\")\n",
    "\n",
    "# Se recorre al diccionario retornado y se generan los archivos de texto con las impresiones por cheque\n",
    "for id_proveedor, payment_info in registro.items():\n",
    "    genera_cheque(id_proveedor, payment_info)"
   ]
  },
  {
   "cell_type": "code",
   "execution_count": null,
   "id": "11bcf5ea-e4e2-4f7a-8d87-286c003e30c5",
   "metadata": {},
   "outputs": [],
   "source": []
  }
 ],
 "metadata": {
  "kernelspec": {
   "display_name": "Python 3 (ipykernel)",
   "language": "python",
   "name": "python3"
  },
  "language_info": {
   "codemirror_mode": {
    "name": "ipython",
    "version": 3
   },
   "file_extension": ".py",
   "mimetype": "text/x-python",
   "name": "python",
   "nbconvert_exporter": "python",
   "pygments_lexer": "ipython3",
   "version": "3.10.12"
  }
 },
 "nbformat": 4,
 "nbformat_minor": 5
}
